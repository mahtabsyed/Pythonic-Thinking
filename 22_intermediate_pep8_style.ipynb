{
 "cells": [
  {
   "attachments": {},
   "cell_type": "markdown",
   "metadata": {},
   "source": [
    "<!--NAVIGATION-->\n",
    "< [Intermediate Environment Setup](21_intermediate_environement_setup.ipynb) | [Contents](0_contents.ipynb) | [Intermediate PEP8 Style](22_intermediate_pep8_style.ipynb) >"
   ]
  },
  {
   "attachments": {},
   "cell_type": "markdown",
   "metadata": {},
   "source": [
    "# PEP8 Style Guide\n",
    "\n",
    "### Credits \n",
    "- Brett Slatkin - Effective Python Second Edition\n",
    "    - https://www.amazon.com.au/Effective-Python-Brett-Slatkin/dp/0134853989"
   ]
  },
  {
   "attachments": {},
   "cell_type": "markdown",
   "metadata": {},
   "source": [
    "### TODO - Update PEP style suggestions with examples"
   ]
  },
  {
   "cell_type": "code",
   "execution_count": 2,
   "metadata": {},
   "outputs": [],
   "source": [
    "# Always follow Python Enhancement Protocol Proposal #8 (PEP8) style guide when writing Python code\n",
    "# Sharding a common style with the larger Python community facilitates collaboration with others\n",
    "# Using a consistent style makes it easier to modify your own code later\n",
    "\n",
    "# In VSCode\n",
    "# In Settings Enable Format on Save\n",
    "# And use Autopep8 extension for auto formatting\n",
    "\n",
    "# Whitespaces\n",
    "# 1. Use spaces instead of tabs for indentation\n",
    "# 2. Use 4 spaces for indentation\n",
    "# 3. Lines should be 79 characters or less\n",
    "# 4. Continuation of long expressions onto additonal lines should be indented by 4 extra spaces\n",
    "\n",
    "# Naming\n",
    "# Functions, variables and attribues: lowercase_format\n",
    "# Protected instance attributes: _leading_underscore_format\n",
    "# Private instance attributes: __double_leading_undrscore_format\n",
    "# Classes including exceptions: CaptializedWord format\n",
    "# Module level constants: ALL_CAPS format\n",
    "# Instance methods in classes should use self which refers to the object as the name of the first parameter\n",
    "# Classes methods should use cls, which refers to class as the name of the first parameter\n",
    "\n",
    "# Expressions and statements\n",
    "# Use inline negation (if a is not b) instead of (if not a is b)\n",
    "# When (if not somelist) assume that empty list will implicitly evaluate to False\n",
    "# (if somelist) will implicitly evaluate to True for non-empty containers or sequences\n",
    "# If an expreesion does not fit in a line surround it with parentheses and add line breaks and indentation\n",
    "# Prefer surrounding multiline expressions with parentheses over using the \\ line continuation character\n",
    "\n",
    "# Imports\n",
    "# Always put import statements at the top of a file\n",
    "# from x import y\n",
    "# Always use absolute names of packages not relative to the current module's own path\n",
    "# To import foo module fron within the bar package write\n",
    "# from bar import foo\n",
    "# not just import foo\n",
    "# For relative imports use\n",
    "# from . import foo\n",
    "# imports should be in sections in the folllowing order and in each section in alphatecial order\n",
    "# Top - standard library modules\n",
    "# Middle - third party modules\n",
    "# Bottom - your own modules"
   ]
  },
  {
   "attachments": {},
   "cell_type": "markdown",
   "metadata": {},
   "source": [
    "<!--NAVIGATION-->\n",
    "< [Intermediate Environment Setup](21_intermediate_environement_setup.ipynb) | [Contents](0_contents.ipynb) | [Intermediate PEP8 Style](22_intermediate_pep8_style.ipynb) >"
   ]
  }
 ],
 "metadata": {
  "kernelspec": {
   "display_name": ".venv",
   "language": "python",
   "name": "python3"
  },
  "language_info": {
   "codemirror_mode": {
    "name": "ipython",
    "version": 3
   },
   "file_extension": ".py",
   "mimetype": "text/x-python",
   "name": "python",
   "nbconvert_exporter": "python",
   "pygments_lexer": "ipython3",
   "version": "3.10.4"
  },
  "orig_nbformat": 4
 },
 "nbformat": 4,
 "nbformat_minor": 2
}
