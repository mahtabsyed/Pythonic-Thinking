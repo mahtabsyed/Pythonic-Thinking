{
 "cells": [
  {
   "attachments": {},
   "cell_type": "markdown",
   "metadata": {},
   "source": [
    "# Mahtab Syed - Learning the Pythonic way of programming\n",
    "## A quick way to learn Python for programmers used to C, C++, Java etc\n",
    "\n",
    "### Credits \n",
    "- Jake VanderPlas\n",
    "    - A Whirlwind Tour of Python by Jake VanderPlas (O’Reilly). Copyright 2016 O’Reilly Media, Inc., 978-1-491-96465-1.\n",
    "    - https://github.com/jakevdp/WhirlwindTourOfPython\n",
    "- Raymond Hettinger\n",
    "    - https://pyvideo.org/speaker/raymond-hettinger.html\n",
    "- Brett Slatkin - Effective Python Second Edition\n",
    "    - https://www.amazon.com.au/Effective-Python-Brett-Slatkin/dp/0134853989\n",
    "\n",
    "\n"
   ]
  },
  {
   "attachments": {},
   "cell_type": "markdown",
   "metadata": {},
   "source": [
    "## Contents\n",
    "\n",
    "1. [Beginners Fundamentals](1_beginners_fundamentals.ipynb)\n",
    "2. [Beginners Operators](2_beginners_operators.ipynb)\n",
    "3. [Beginners Built-in Scalar Types](3_beginners_built-in_scalar_types.ipynb)\n",
    "4. [Beginners Built-in Data Structures](4_beginners_built-in_data_structures.ipynb)\n",
    "5. [Beginners Control Flow](5-beginners-control-flow)\n",
    "6. [Beginners Functions](6-beginners-functions.ipynb)\n",
    "\n",
    "\n"
   ]
  },
  {
   "cell_type": "code",
   "execution_count": null,
   "metadata": {},
   "outputs": [],
   "source": []
  }
 ],
 "metadata": {
  "kernelspec": {
   "display_name": ".venv",
   "language": "python",
   "name": "python3"
  },
  "language_info": {
   "codemirror_mode": {
    "name": "ipython",
    "version": 3
   },
   "file_extension": ".py",
   "mimetype": "text/x-python",
   "name": "python",
   "nbconvert_exporter": "python",
   "pygments_lexer": "ipython3",
   "version": "3.10.4"
  },
  "orig_nbformat": 4
 },
 "nbformat": 4,
 "nbformat_minor": 2
}
