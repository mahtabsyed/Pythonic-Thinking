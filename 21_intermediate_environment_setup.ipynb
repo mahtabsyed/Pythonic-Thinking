{
 "cells": [
  {
   "attachments": {},
   "cell_type": "markdown",
   "metadata": {},
   "source": [
    "<!--NAVIGATION-->\n",
    "< [Beginners Modules and Packages](11_beginners_modules_and_packages.ipynb) | [Contents](0_contents.ipynb) | [Intermediate PEP8 Style](22_intermediate_pep8_style.ipynb) >"
   ]
  },
  {
   "attachments": {},
   "cell_type": "markdown",
   "metadata": {},
   "source": [
    "# Environment setup\n",
    "### Credits \n",
    "- Brett Slatkin - Effective Python Second Edition\n",
    "    - https://www.amazon.com.au/Effective-Python-Brett-Slatkin/dp/0134853989\n"
   ]
  },
  {
   "attachments": {},
   "cell_type": "markdown",
   "metadata": {},
   "source": [
    "## Install Python and point to the right version you need"
   ]
  },
  {
   "attachments": {},
   "cell_type": "markdown",
   "metadata": {},
   "source": [
    "Before we start working on a Python project its impotant to have a dedicated Environment which keeps specific version of Python and specific vesion of all dependent packages\n",
    "1. Install python and make the latest version point to python and python3\n",
    "    Choose the version from here https://www.python.org/downloads/\n",
    "    And Install\n",
    "\n",
    "2. In Mac open .bash_profile and on top point python and python3 to \n",
    "    alias python=/usr/local/bin/python3.10\n",
    "    alias python3=/usr/local/bin/python3.10\n",
    "\n",
    "3. After this check by typing python and python3 at command prompt\n",
    "    (base) Mahtabs-MacBook-Pro:~ mahtabsyed$ python\n",
    "    Python 3.10.4 (v3.10.4:9d38120e33, Mar 23 2022, 17:29:05) [Clang 13.0.0 (clang-1300.0.29.30)] on darwin\n",
    "    Type \"help\", \"copyright\", \"credits\" or \"license\" for more information.\n",
    "    >>> exit()\n",
    "\n",
    "    (base) Mahtabs-MacBook-Pro:~ mahtabsyed$ python3\n",
    "    Python 3.10.4 (v3.10.4:9d38120e33, Mar 23 2022, 17:29:05) [Clang 13.0.0 (clang-1300.0.29.30)] on darwin\n",
    "    Type \"help\", \"copyright\", \"credits\" or \"license\" for more information.\n",
    "    >>> exit()"
   ]
  },
  {
   "attachments": {},
   "cell_type": "markdown",
   "metadata": {},
   "source": [
    "## Setup virutalenv in short referred as venv\n",
    "\n",
    "**1st step** - Create .venv virtual environment\n",
    "- First way using VSCode\n",
    "    - Create a python project folder \"PythonTestApp\" and open that folder in VSCode\n",
    "    - Command + Shift + P - Create Python environment\n",
    "        1. Create .venv from VSCode choosing the right python version\n",
    "        2. Choose the full path of the right Python version\n",
    "    - This will create a .venv folder inside \"PythonTestApp/.venv/\"\n",
    "    - And it will activate this virtual environment\n",
    "\n",
    "- Second way manual using the terminal command prompt\n",
    "    - From command prompt choose full path of python\n",
    "    - e.g. \"/usr/local/bin/python3.10\"\n",
    "    - Create a python project folder \"PythonTestApp\"\n",
    "    - cd into this folder\n",
    "    - When inside the folder type /usr/local/bin/python3 -m venv .venv\n",
    "    - This will create a .venv folder inside \"PythonTestApp/.venv/\"\n",
    "    - Then source it to activate it using command - \"source .venv/bin/activate\"\n",
    "    - Thats it you are ready\n",
    "\n",
    "\n",
    "**2nd step** - After First or Second way you have created a .venv environment\n",
    "- Now create a dependency file \"requirements.txt\"\n",
    "- Edit it and keep all dependencies like this below\n",
    "    - cat requirements.txt\n",
    "    - azureml-core==1.47.0\n",
    "    - azureml-sdk==1.47.0\n",
    "    - azureml-widgets==1.47.0\n",
    "    - azureml-dataprep==4.5.6\n",
    "    - azureml-opendatasets==1.47.0\n",
    "    - tensorflow==2.10.0\n",
    "    - pandas==1.4.2\n",
    "    - numpy==1.21.5\n",
    "    - scikit-learn==1.0.2\n",
    "    - seaborn==0.11.2\n",
    "    - plotly==5.6.0\n",
    "    - umap_learn==0.5.3\n",
    "    - statsmodels==0.13.2\n",
    "    - missingno==0.5.1\n",
    "    \n",
    "- And now install required packages inside the .venv folder we created\n",
    "    - \"\"\n",
    "\n",
    "- **3rd step** Check that the packages are of the right version\n",
    "- Check python - \"which python\", - \"which python3\"\n",
    "- pip show azureml-sdk\n",
    "    - Name: azureml-sdk\n",
    "    - Version: 1.47.0\n",
    "\n",
    "- **We should be fine now!**"
   ]
  },
  {
   "attachments": {},
   "cell_type": "markdown",
   "metadata": {},
   "source": [
    "## Check the python version using code"
   ]
  },
  {
   "cell_type": "code",
   "execution_count": 1,
   "metadata": {},
   "outputs": [
    {
     "name": "stdout",
     "output_type": "stream",
     "text": [
      "sys.version_info(major=3, minor=10, micro=4, releaselevel='final', serial=0)\n",
      "3.10.4 (v3.10.4:9d38120e33, Mar 23 2022, 17:29:05) [Clang 13.0.0 (clang-1300.0.29.30)]\n"
     ]
    }
   ],
   "source": [
    "import sys\n",
    "print(sys.version_info)\n",
    "print(sys.version)"
   ]
  },
  {
   "attachments": {},
   "cell_type": "markdown",
   "metadata": {},
   "source": [
    "## Check where Python runtimes are located\n",
    "- In Mac open Applications/Python x.x e.g Python 3.10\n",
    "- Inside folder Applications/Python 3.10 locate file \"Python Launcher.app\" - and run it\n",
    "- See the path location in Interpreter: \"/usr/local/bin/python3\""
   ]
  },
  {
   "attachments": {},
   "cell_type": "markdown",
   "metadata": {},
   "source": []
  },
  {
   "attachments": {},
   "cell_type": "markdown",
   "metadata": {},
   "source": [
    "<!--NAVIGATION-->\n",
    "< [Beginners Modules and Packages](11_beginners_modules_and_packages.ipynb) | [Contents](0_contents.ipynb) | [Intermediate PEP8 Style](22_intermediate_pep8_style.ipynb) >"
   ]
  }
 ],
 "metadata": {
  "kernelspec": {
   "display_name": ".venv",
   "language": "python",
   "name": "python3"
  },
  "language_info": {
   "codemirror_mode": {
    "name": "ipython",
    "version": 3
   },
   "file_extension": ".py",
   "mimetype": "text/x-python",
   "name": "python",
   "nbconvert_exporter": "python",
   "pygments_lexer": "ipython3",
   "version": "3.10.4"
  },
  "orig_nbformat": 4
 },
 "nbformat": 4,
 "nbformat_minor": 2
}
